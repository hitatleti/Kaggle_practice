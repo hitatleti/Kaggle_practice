{
 "cells": [
  {
   "cell_type": "code",
   "execution_count": 33,
   "metadata": {},
   "outputs": [
    {
     "name": "stdout",
     "output_type": "stream",
     "text": [
      "Requirement already satisfied: pandas-profiling in c:\\users\\hisan\\anaconda3\\lib\\site-packages (3.6.2)\n",
      "Requirement already satisfied: seaborn<0.13,>=0.10.1 in c:\\users\\hisan\\anaconda3\\lib\\site-packages (from pandas-profiling) (0.11.2)\n",
      "Requirement already satisfied: pydantic<1.11,>=1.8.1 in c:\\users\\hisan\\anaconda3\\lib\\site-packages (from pandas-profiling) (1.10.4)\n",
      "Requirement already satisfied: scipy<1.10,>=1.4.1 in c:\\users\\hisan\\anaconda3\\lib\\site-packages (from pandas-profiling) (1.7.3)\n",
      "Requirement already satisfied: multimethod<1.10,>=1.4 in c:\\users\\hisan\\anaconda3\\lib\\site-packages (from pandas-profiling) (1.9.1)\n",
      "Requirement already satisfied: visions[type_image_path]==0.7.5 in c:\\users\\hisan\\anaconda3\\lib\\site-packages (from pandas-profiling) (0.7.5)\n",
      "Requirement already satisfied: htmlmin==0.1.12 in c:\\users\\hisan\\anaconda3\\lib\\site-packages (from pandas-profiling) (0.1.12)\n",
      "Requirement already satisfied: statsmodels<0.14,>=0.13.2 in c:\\users\\hisan\\anaconda3\\lib\\site-packages (from pandas-profiling) (0.13.2)\n",
      "Requirement already satisfied: typeguard<2.14,>=2.13.2 in c:\\users\\hisan\\anaconda3\\lib\\site-packages (from pandas-profiling) (2.13.3)\n",
      "Requirement already satisfied: tqdm<4.65,>=4.48.2 in c:\\users\\hisan\\anaconda3\\lib\\site-packages (from pandas-profiling) (4.64.0)\n",
      "Requirement already satisfied: jinja2<3.2,>=2.11.1 in c:\\users\\hisan\\anaconda3\\lib\\site-packages (from pandas-profiling) (2.11.3)\n",
      "Requirement already satisfied: matplotlib<3.7,>=3.2 in c:\\users\\hisan\\anaconda3\\lib\\site-packages (from pandas-profiling) (3.5.1)\n",
      "Requirement already satisfied: requests<2.29,>=2.24.0 in c:\\users\\hisan\\anaconda3\\lib\\site-packages (from pandas-profiling) (2.27.1)\n",
      "Requirement already satisfied: numpy<1.24,>=1.16.0 in c:\\users\\hisan\\anaconda3\\lib\\site-packages (from pandas-profiling) (1.21.5)\n",
      "Requirement already satisfied: PyYAML<6.1,>=5.0.0 in c:\\users\\hisan\\anaconda3\\lib\\site-packages (from pandas-profiling) (6.0)\n",
      "Requirement already satisfied: pandas!=1.4.0,<1.6,>1.1 in c:\\users\\hisan\\anaconda3\\lib\\site-packages (from pandas-profiling) (1.4.2)\n",
      "Requirement already satisfied: phik<0.13,>=0.11.1 in c:\\users\\hisan\\anaconda3\\lib\\site-packages (from pandas-profiling) (0.12.3)\n",
      "Requirement already satisfied: tangled-up-in-unicode>=0.0.4 in c:\\users\\hisan\\anaconda3\\lib\\site-packages (from visions[type_image_path]==0.7.5->pandas-profiling) (0.2.0)\n",
      "Requirement already satisfied: attrs>=19.3.0 in c:\\users\\hisan\\anaconda3\\lib\\site-packages (from visions[type_image_path]==0.7.5->pandas-profiling) (21.4.0)\n",
      "Requirement already satisfied: networkx>=2.4 in c:\\users\\hisan\\anaconda3\\lib\\site-packages (from visions[type_image_path]==0.7.5->pandas-profiling) (2.7.1)\n",
      "Requirement already satisfied: Pillow in c:\\users\\hisan\\anaconda3\\lib\\site-packages (from visions[type_image_path]==0.7.5->pandas-profiling) (9.0.1)\n",
      "Requirement already satisfied: imagehash in c:\\users\\hisan\\anaconda3\\lib\\site-packages (from visions[type_image_path]==0.7.5->pandas-profiling) (4.3.1)\n",
      "Requirement already satisfied: MarkupSafe>=0.23 in c:\\users\\hisan\\anaconda3\\lib\\site-packages (from jinja2<3.2,>=2.11.1->pandas-profiling) (2.0.1)\n",
      "Requirement already satisfied: python-dateutil>=2.7 in c:\\users\\hisan\\anaconda3\\lib\\site-packages (from matplotlib<3.7,>=3.2->pandas-profiling) (2.8.2)\n",
      "Requirement already satisfied: packaging>=20.0 in c:\\users\\hisan\\anaconda3\\lib\\site-packages (from matplotlib<3.7,>=3.2->pandas-profiling) (21.3)\n",
      "Requirement already satisfied: cycler>=0.10 in c:\\users\\hisan\\anaconda3\\lib\\site-packages (from matplotlib<3.7,>=3.2->pandas-profiling) (0.11.0)\n",
      "Requirement already satisfied: fonttools>=4.22.0 in c:\\users\\hisan\\anaconda3\\lib\\site-packages (from matplotlib<3.7,>=3.2->pandas-profiling) (4.25.0)\n",
      "Requirement already satisfied: pyparsing>=2.2.1 in c:\\users\\hisan\\anaconda3\\lib\\site-packages (from matplotlib<3.7,>=3.2->pandas-profiling) (3.0.4)\n",
      "Requirement already satisfied: kiwisolver>=1.0.1 in c:\\users\\hisan\\anaconda3\\lib\\site-packages (from matplotlib<3.7,>=3.2->pandas-profiling) (1.3.2)\n",
      "Requirement already satisfied: pytz>=2020.1 in c:\\users\\hisan\\anaconda3\\lib\\site-packages (from pandas!=1.4.0,<1.6,>1.1->pandas-profiling) (2021.3)\n",
      "Requirement already satisfied: joblib>=0.14.1 in c:\\users\\hisan\\anaconda3\\lib\\site-packages (from phik<0.13,>=0.11.1->pandas-profiling) (1.1.0)\n",
      "Requirement already satisfied: typing-extensions>=4.2.0 in c:\\users\\hisan\\anaconda3\\lib\\site-packages (from pydantic<1.11,>=1.8.1->pandas-profiling) (4.4.0)\n",
      "Requirement already satisfied: six>=1.5 in c:\\users\\hisan\\anaconda3\\lib\\site-packages (from python-dateutil>=2.7->matplotlib<3.7,>=3.2->pandas-profiling) (1.16.0)\n",
      "Requirement already satisfied: charset-normalizer~=2.0.0 in c:\\users\\hisan\\anaconda3\\lib\\site-packages (from requests<2.29,>=2.24.0->pandas-profiling) (2.0.4)\n",
      "Requirement already satisfied: certifi>=2017.4.17 in c:\\users\\hisan\\anaconda3\\lib\\site-packages (from requests<2.29,>=2.24.0->pandas-profiling) (2021.10.8)\n",
      "Requirement already satisfied: idna<4,>=2.5 in c:\\users\\hisan\\anaconda3\\lib\\site-packages (from requests<2.29,>=2.24.0->pandas-profiling) (3.3)\n",
      "Requirement already satisfied: urllib3<1.27,>=1.21.1 in c:\\users\\hisan\\anaconda3\\lib\\site-packages (from requests<2.29,>=2.24.0->pandas-profiling) (1.26.9)\n",
      "Requirement already satisfied: patsy>=0.5.2 in c:\\users\\hisan\\anaconda3\\lib\\site-packages (from statsmodels<0.14,>=0.13.2->pandas-profiling) (0.5.2)\n",
      "Requirement already satisfied: colorama in c:\\users\\hisan\\anaconda3\\lib\\site-packages (from tqdm<4.65,>=4.48.2->pandas-profiling) (0.4.4)\n",
      "Requirement already satisfied: PyWavelets in c:\\users\\hisan\\anaconda3\\lib\\site-packages (from imagehash->visions[type_image_path]==0.7.5->pandas-profiling) (1.3.0)\n",
      "Note: you may need to restart the kernel to use updated packages.\n"
     ]
    }
   ],
   "source": [
    "pip install pandas-profiling"
   ]
  },
  {
   "cell_type": "code",
   "execution_count": 34,
   "metadata": {},
   "outputs": [
    {
     "name": "stdout",
     "output_type": "stream",
     "text": [
      "Requirement already satisfied: lightgbm in c:\\users\\hisan\\anaconda3\\lib\\site-packages (3.3.4)\n",
      "Requirement already satisfied: wheel in c:\\users\\hisan\\anaconda3\\lib\\site-packages (from lightgbm) (0.37.1)\n",
      "Requirement already satisfied: scipy in c:\\users\\hisan\\anaconda3\\lib\\site-packages (from lightgbm) (1.7.3)\n",
      "Requirement already satisfied: scikit-learn!=0.22.0 in c:\\users\\hisan\\anaconda3\\lib\\site-packages (from lightgbm) (1.0.2)\n",
      "Requirement already satisfied: numpy in c:\\users\\hisan\\anaconda3\\lib\\site-packages (from lightgbm) (1.21.5)\n",
      "Requirement already satisfied: threadpoolctl>=2.0.0 in c:\\users\\hisan\\anaconda3\\lib\\site-packages (from scikit-learn!=0.22.0->lightgbm) (2.2.0)\n",
      "Requirement already satisfied: joblib>=0.11 in c:\\users\\hisan\\anaconda3\\lib\\site-packages (from scikit-learn!=0.22.0->lightgbm) (1.1.0)\n",
      "Note: you may need to restart the kernel to use updated packages.\n"
     ]
    }
   ],
   "source": [
    "pip install lightgbm"
   ]
  },
  {
   "attachments": {},
   "cell_type": "markdown",
   "metadata": {},
   "source": [
    "ライブラリの読み込み"
   ]
  },
  {
   "cell_type": "code",
   "execution_count": 35,
   "metadata": {},
   "outputs": [],
   "source": [
    "import numpy as np\n",
    "import pandas as pd\n",
    "import os\n",
    "import pickle\n",
    "import gc\n",
    "# 分布の確認\n",
    "import pandas_profiling as pdp \n",
    "# 可視化\n",
    "import matplotlib.pyplot as plt \n",
    "# 前処理\n",
    "from sklearn.preprocessing import StandardScaler, MinMaxScaler, LabelEncoder, OneHotEncoder \n",
    "# モデリング\n",
    "from sklearn.model_selection import train_test_split, KFold, StratifiedKFold\n",
    "from sklearn.metrics import accuracy_score, roc_auc_score, confusion_matrix\n",
    "import lightgbm as lgb\n",
    "\n",
    "import warnings\n",
    "warnings.filterwarnings(\"ignore\")\n",
    "\n",
    "# matplotlibで日本語表示したい場合はこれをinstallしてインポートする\n",
    "# !pip install japanize-matplotlib\n",
    "# import japanize_matplotlib\n",
    "# %matplotlib inline"
   ]
  },
  {
   "attachments": {},
   "cell_type": "markdown",
   "metadata": {},
   "source": [
    "ファイルの読み込み"
   ]
  },
  {
   "cell_type": "code",
   "execution_count": 36,
   "metadata": {},
   "outputs": [],
   "source": [
    "df_train = pd.read_csv(\"../data/train.csv\")"
   ]
  },
  {
   "cell_type": "code",
   "execution_count": 37,
   "metadata": {},
   "outputs": [
    {
     "data": {
      "text/html": [
       "<div>\n",
       "<style scoped>\n",
       "    .dataframe tbody tr th:only-of-type {\n",
       "        vertical-align: middle;\n",
       "    }\n",
       "\n",
       "    .dataframe tbody tr th {\n",
       "        vertical-align: top;\n",
       "    }\n",
       "\n",
       "    .dataframe thead th {\n",
       "        text-align: right;\n",
       "    }\n",
       "</style>\n",
       "<table border=\"1\" class=\"dataframe\">\n",
       "  <thead>\n",
       "    <tr style=\"text-align: right;\">\n",
       "      <th></th>\n",
       "      <th>PassengerId</th>\n",
       "      <th>Survived</th>\n",
       "      <th>Pclass</th>\n",
       "      <th>Name</th>\n",
       "      <th>Sex</th>\n",
       "      <th>Age</th>\n",
       "      <th>SibSp</th>\n",
       "      <th>Parch</th>\n",
       "      <th>Ticket</th>\n",
       "      <th>Fare</th>\n",
       "      <th>Cabin</th>\n",
       "      <th>Embarked</th>\n",
       "    </tr>\n",
       "  </thead>\n",
       "  <tbody>\n",
       "    <tr>\n",
       "      <th>0</th>\n",
       "      <td>1</td>\n",
       "      <td>0</td>\n",
       "      <td>3</td>\n",
       "      <td>Braund, Mr. Owen Harris</td>\n",
       "      <td>male</td>\n",
       "      <td>22.0</td>\n",
       "      <td>1</td>\n",
       "      <td>0</td>\n",
       "      <td>A/5 21171</td>\n",
       "      <td>7.2500</td>\n",
       "      <td>NaN</td>\n",
       "      <td>S</td>\n",
       "    </tr>\n",
       "    <tr>\n",
       "      <th>1</th>\n",
       "      <td>2</td>\n",
       "      <td>1</td>\n",
       "      <td>1</td>\n",
       "      <td>Cumings, Mrs. John Bradley (Florence Briggs Th...</td>\n",
       "      <td>female</td>\n",
       "      <td>38.0</td>\n",
       "      <td>1</td>\n",
       "      <td>0</td>\n",
       "      <td>PC 17599</td>\n",
       "      <td>71.2833</td>\n",
       "      <td>C85</td>\n",
       "      <td>C</td>\n",
       "    </tr>\n",
       "    <tr>\n",
       "      <th>2</th>\n",
       "      <td>3</td>\n",
       "      <td>1</td>\n",
       "      <td>3</td>\n",
       "      <td>Heikkinen, Miss. Laina</td>\n",
       "      <td>female</td>\n",
       "      <td>26.0</td>\n",
       "      <td>0</td>\n",
       "      <td>0</td>\n",
       "      <td>STON/O2. 3101282</td>\n",
       "      <td>7.9250</td>\n",
       "      <td>NaN</td>\n",
       "      <td>S</td>\n",
       "    </tr>\n",
       "    <tr>\n",
       "      <th>3</th>\n",
       "      <td>4</td>\n",
       "      <td>1</td>\n",
       "      <td>1</td>\n",
       "      <td>Futrelle, Mrs. Jacques Heath (Lily May Peel)</td>\n",
       "      <td>female</td>\n",
       "      <td>35.0</td>\n",
       "      <td>1</td>\n",
       "      <td>0</td>\n",
       "      <td>113803</td>\n",
       "      <td>53.1000</td>\n",
       "      <td>C123</td>\n",
       "      <td>S</td>\n",
       "    </tr>\n",
       "    <tr>\n",
       "      <th>4</th>\n",
       "      <td>5</td>\n",
       "      <td>0</td>\n",
       "      <td>3</td>\n",
       "      <td>Allen, Mr. William Henry</td>\n",
       "      <td>male</td>\n",
       "      <td>35.0</td>\n",
       "      <td>0</td>\n",
       "      <td>0</td>\n",
       "      <td>373450</td>\n",
       "      <td>8.0500</td>\n",
       "      <td>NaN</td>\n",
       "      <td>S</td>\n",
       "    </tr>\n",
       "  </tbody>\n",
       "</table>\n",
       "</div>"
      ],
      "text/plain": [
       "   PassengerId  Survived  Pclass  \\\n",
       "0            1         0       3   \n",
       "1            2         1       1   \n",
       "2            3         1       3   \n",
       "3            4         1       1   \n",
       "4            5         0       3   \n",
       "\n",
       "                                                Name     Sex   Age  SibSp  \\\n",
       "0                            Braund, Mr. Owen Harris    male  22.0      1   \n",
       "1  Cumings, Mrs. John Bradley (Florence Briggs Th...  female  38.0      1   \n",
       "2                             Heikkinen, Miss. Laina  female  26.0      0   \n",
       "3       Futrelle, Mrs. Jacques Heath (Lily May Peel)  female  35.0      1   \n",
       "4                           Allen, Mr. William Henry    male  35.0      0   \n",
       "\n",
       "   Parch            Ticket     Fare Cabin Embarked  \n",
       "0      0         A/5 21171   7.2500   NaN        S  \n",
       "1      0          PC 17599  71.2833   C85        C  \n",
       "2      0  STON/O2. 3101282   7.9250   NaN        S  \n",
       "3      0            113803  53.1000  C123        S  \n",
       "4      0            373450   8.0500   NaN        S  "
      ]
     },
     "execution_count": 37,
     "metadata": {},
     "output_type": "execute_result"
    }
   ],
   "source": [
    "df_train.head()"
   ]
  },
  {
   "attachments": {},
   "cell_type": "markdown",
   "metadata": {},
   "source": [
    "### 4.4　データの確認"
   ]
  },
  {
   "cell_type": "code",
   "execution_count": 38,
   "metadata": {},
   "outputs": [
    {
     "name": "stdout",
     "output_type": "stream",
     "text": [
      "(891, 12)\n",
      "レコード数: 891\n",
      "カラム数: 12\n"
     ]
    }
   ],
   "source": [
    "# レコード数（行数）とカラム数（列数）の確認\n",
    "print(df_train.shape)\n",
    "print(\"レコード数:\", len(df_train))\n",
    "print(\"カラム数:\", len(df_train.columns))"
   ]
  },
  {
   "cell_type": "code",
   "execution_count": 39,
   "metadata": {},
   "outputs": [
    {
     "name": "stdout",
     "output_type": "stream",
     "text": [
      "<class 'pandas.core.frame.DataFrame'>\n",
      "RangeIndex: 891 entries, 0 to 890\n",
      "Data columns (total 12 columns):\n",
      " #   Column       Non-Null Count  Dtype  \n",
      "---  ------       --------------  -----  \n",
      " 0   PassengerId  891 non-null    int64  \n",
      " 1   Survived     891 non-null    int64  \n",
      " 2   Pclass       891 non-null    int64  \n",
      " 3   Name         891 non-null    object \n",
      " 4   Sex          891 non-null    object \n",
      " 5   Age          714 non-null    float64\n",
      " 6   SibSp        891 non-null    int64  \n",
      " 7   Parch        891 non-null    int64  \n",
      " 8   Ticket       891 non-null    object \n",
      " 9   Fare         891 non-null    float64\n",
      " 10  Cabin        204 non-null    object \n",
      " 11  Embarked     889 non-null    object \n",
      "dtypes: float64(2), int64(5), object(5)\n",
      "memory usage: 83.7+ KB\n"
     ]
    }
   ],
   "source": [
    "# データ型の確認\n",
    "df_train.info()"
   ]
  },
  {
   "cell_type": "code",
   "execution_count": 40,
   "metadata": {},
   "outputs": [
    {
     "name": "stdout",
     "output_type": "stream",
     "text": [
      "<class 'pandas.core.series.Series'>\n",
      "RangeIndex: 891 entries, 0 to 890\n",
      "Series name: Pclass\n",
      "Non-Null Count  Dtype \n",
      "--------------  ----- \n",
      "891 non-null    object\n",
      "dtypes: object(1)\n",
      "memory usage: 7.1+ KB\n"
     ]
    }
   ],
   "source": [
    "# data型の変換必要な場合は適宜行う\n",
    "df_train[\"Pclass\"] = df_train[\"Pclass\"].astype(object)\n",
    "df_train[\"Pclass\"].info()"
   ]
  },
  {
   "cell_type": "code",
   "execution_count": 41,
   "metadata": {},
   "outputs": [
    {
     "name": "stdout",
     "output_type": "stream",
     "text": [
      "<class 'pandas.core.series.Series'>\n",
      "RangeIndex: 891 entries, 0 to 890\n",
      "Series name: Pclass\n",
      "Non-Null Count  Dtype\n",
      "--------------  -----\n",
      "891 non-null    int64\n",
      "dtypes: int64(1)\n",
      "memory usage: 7.1 KB\n"
     ]
    }
   ],
   "source": [
    "df_train[\"Pclass\"] = df_train[\"Pclass\"].astype(np.int64)\n",
    "df_train[\"Pclass\"].info()"
   ]
  },
  {
   "cell_type": "code",
   "execution_count": 42,
   "metadata": {},
   "outputs": [
    {
     "data": {
      "text/plain": [
       "PassengerId      0\n",
       "Survived         0\n",
       "Pclass           0\n",
       "Name             0\n",
       "Sex              0\n",
       "Age            177\n",
       "SibSp            0\n",
       "Parch            0\n",
       "Ticket           0\n",
       "Fare             0\n",
       "Cabin          687\n",
       "Embarked         2\n",
       "dtype: int64"
      ]
     },
     "execution_count": 42,
     "metadata": {},
     "output_type": "execute_result"
    }
   ],
   "source": [
    "# 欠損値の確認\n",
    "df_train.isnull().sum()"
   ]
  },
  {
   "attachments": {},
   "cell_type": "markdown",
   "metadata": {},
   "source": [
    "### 4.5　データセットの作成"
   ]
  },
  {
   "cell_type": "code",
   "execution_count": 43,
   "metadata": {},
   "outputs": [],
   "source": [
    "x_train, y_train, id_train = df_train[['Pclass', 'Fare']], df_train[['Survived']], df_train[['PassengerId']] "
   ]
  },
  {
   "cell_type": "code",
   "execution_count": 44,
   "metadata": {},
   "outputs": [
    {
     "name": "stdout",
     "output_type": "stream",
     "text": [
      "(891, 2) (891, 1) (891, 1)\n"
     ]
    }
   ],
   "source": [
    "print(x_train.shape, y_train.shape, id_train.shape)"
   ]
  },
  {
   "attachments": {},
   "cell_type": "markdown",
   "metadata": {},
   "source": [
    "ホールドアウト検証と交差検証"
   ]
  },
  {
   "attachments": {},
   "cell_type": "markdown",
   "metadata": {},
   "source": [
    "まずはホールドアウト検証"
   ]
  },
  {
   "cell_type": "code",
   "execution_count": 45,
   "metadata": {},
   "outputs": [
    {
     "name": "stdout",
     "output_type": "stream",
     "text": [
      "0.3838383838383838\n"
     ]
    }
   ],
   "source": [
    "print(len(df_train[df_train['Survived']==1]) / len(df_train['Survived']))"
   ]
  },
  {
   "cell_type": "code",
   "execution_count": 46,
   "metadata": {},
   "outputs": [
    {
     "name": "stdout",
     "output_type": "stream",
     "text": [
      "(712, 2) (712, 1)\n",
      "(179, 2) (179, 1)\n",
      "y_train:0.384, y_tr:0.383, y_va:0.385\n"
     ]
    }
   ],
   "source": [
    "x_tr, x_va, y_tr, y_va = train_test_split(x_train, y_train, test_size=0.2, shuffle=True, stratify=y_train, random_state=123)\n",
    "print(x_tr.shape, y_tr.shape)\n",
    "print(x_va.shape, y_va.shape)\n",
    "print(f\"y_train:{y_train['Survived'].mean():.3f}, y_tr:{y_tr['Survived'].mean():.3f}, y_va:{y_va['Survived'].mean():.3f}\")"
   ]
  },
  {
   "attachments": {},
   "cell_type": "markdown",
   "metadata": {},
   "source": [
    "次に、5-Fold cross validation"
   ]
  },
  {
   "cell_type": "code",
   "execution_count": 47,
   "metadata": {},
   "outputs": [
    {
     "name": "stdout",
     "output_type": "stream",
     "text": [
      "-------------------- 0 --------------------\n",
      "(712, 2) (712, 1)\n",
      "(179, 2) (179, 1)\n",
      "y_train:0.384, y_tr:0.383, y_va:0.385\n",
      "-------------------- 1 --------------------\n",
      "(713, 2) (713, 1)\n",
      "(178, 2) (178, 1)\n",
      "y_train:0.384, y_tr:0.384, y_va:0.382\n",
      "-------------------- 2 --------------------\n",
      "(713, 2) (713, 1)\n",
      "(178, 2) (178, 1)\n",
      "y_train:0.384, y_tr:0.384, y_va:0.382\n",
      "-------------------- 3 --------------------\n",
      "(713, 2) (713, 1)\n",
      "(178, 2) (178, 1)\n",
      "y_train:0.384, y_tr:0.384, y_va:0.382\n",
      "-------------------- 4 --------------------\n",
      "(713, 2) (713, 1)\n",
      "(178, 2) (178, 1)\n",
      "y_train:0.384, y_tr:0.383, y_va:0.388\n"
     ]
    }
   ],
   "source": [
    "n_splits = 5\n",
    "cv = list(StratifiedKFold(n_splits=n_splits, shuffle=True, random_state=123).split(x_train, y_train))\n",
    "\n",
    "for nfold in np.arange(n_splits):\n",
    "    print(\"-\"*20, nfold, \"-\"*20)\n",
    "    idx_tr, idx_va = cv[nfold][0], cv[nfold][1]\n",
    "    x_tr, y_tr = x_train.loc[idx_tr, :], y_train.loc[idx_tr, :]\n",
    "    x_va, y_va = x_train.loc[idx_va, :], y_train.loc[idx_va, :]\n",
    "    print(x_tr.shape, y_tr.shape)\n",
    "    print(x_va.shape, y_va.shape)\n",
    "    print(f\"y_train:{y_train['Survived'].mean():.3f}, y_tr:{y_tr['Survived'].mean():.3f}, y_va:{y_va['Survived'].mean():.3f}\")\n",
    "    \n",
    "# ここでモデル学習（次節で説明）"
   ]
  },
  {
   "attachments": {},
   "cell_type": "markdown",
   "metadata": {},
   "source": [
    "### 4.7　モデルの学習"
   ]
  },
  {
   "attachments": {},
   "cell_type": "markdown",
   "metadata": {},
   "source": [
    "テーブルデータを用いた教師あり学習の場合はとりあえず「LightGBM」を用いておけば問題ない。"
   ]
  },
  {
   "attachments": {},
   "cell_type": "markdown",
   "metadata": {},
   "source": [
    "##### 4.7.1 ホールドアウト検証の場合\n",
    "- データセットの作成\n",
    "- モデル学習\n",
    "- 精度の評価\n",
    "- 説明変数の重要度算出"
   ]
  },
  {
   "attachments": {},
   "cell_type": "markdown",
   "metadata": {},
   "source": [
    "データセットの作成"
   ]
  },
  {
   "cell_type": "code",
   "execution_count": 48,
   "metadata": {},
   "outputs": [
    {
     "name": "stdout",
     "output_type": "stream",
     "text": [
      "(712, 2) (712, 1)\n",
      "(179, 2) (179, 1)\n",
      "y_train:0.384, y_tr:0.383, y_va:0.385\n"
     ]
    }
   ],
   "source": [
    "x_tr, x_va, y_tr, y_va = train_test_split(x_train, y_train, test_size=0.2, shuffle=True, stratify=y_train, random_state=123)\n",
    "print(x_tr.shape, y_tr.shape)\n",
    "print(x_va.shape, y_va.shape)\n",
    "print(f\"y_train:{y_train['Survived'].mean():.3f}, y_tr:{y_tr['Survived'].mean():.3f}, y_va:{y_va['Survived'].mean():.3f}\")"
   ]
  },
  {
   "attachments": {},
   "cell_type": "markdown",
   "metadata": {},
   "source": [
    "モデル学習"
   ]
  },
  {
   "cell_type": "code",
   "execution_count": 49,
   "metadata": {},
   "outputs": [
    {
     "name": "stdout",
     "output_type": "stream",
     "text": [
      "[10]\ttraining's auc: 0.792256\tvalid_1's auc: 0.744862\n",
      "[20]\ttraining's auc: 0.801914\tvalid_1's auc: 0.752372\n",
      "[30]\ttraining's auc: 0.808339\tvalid_1's auc: 0.759223\n",
      "[40]\ttraining's auc: 0.816595\tvalid_1's auc: 0.759223\n",
      "[50]\ttraining's auc: 0.820771\tvalid_1's auc: 0.755138\n",
      "[60]\ttraining's auc: 0.82582\tvalid_1's auc: 0.754809\n",
      "[70]\ttraining's auc: 0.82995\tvalid_1's auc: 0.753755\n",
      "[80]\ttraining's auc: 0.832645\tvalid_1's auc: 0.752767\n",
      "[90]\ttraining's auc: 0.834593\tvalid_1's auc: 0.750132\n",
      "[100]\ttraining's auc: 0.837247\tvalid_1's auc: 0.747892\n",
      "[110]\ttraining's auc: 0.839036\tvalid_1's auc: 0.746838\n",
      "[120]\ttraining's auc: 0.840764\tvalid_1's auc: 0.746311\n",
      "[130]\ttraining's auc: 0.842007\tvalid_1's auc: 0.746706\n"
     ]
    },
    {
     "data": {
      "text/plain": [
       "LGBMClassifier(importance_type='gain', learning_rate='0.1', metric='auc',\n",
       "               n_estimators=100000, num_leaves=16, objective='binary',\n",
       "               random_state=123)"
      ]
     },
     "execution_count": 49,
     "metadata": {},
     "output_type": "execute_result"
    }
   ],
   "source": [
    "# ハイパーパラメータ\n",
    "params = {\n",
    "    'boosting_type': 'gbdt',\n",
    "    'objective': 'binary',\n",
    "    'metric': 'auc',\n",
    "    'learning_rate': '0.1',\n",
    "    'num_leaves': 16,\n",
    "    'n_estimators': 100000,\n",
    "    'random_state': 123,\n",
    "    'importance_type': 'gain',\n",
    "}\n",
    "\n",
    "model = lgb.LGBMClassifier(**params)\n",
    "model.fit(x_tr, y_tr, eval_set=[(x_tr, y_tr), (x_va, y_va)], early_stopping_rounds=100, verbose=10)"
   ]
  },
  {
   "attachments": {},
   "cell_type": "markdown",
   "metadata": {},
   "source": [
    "精度の評価"
   ]
  },
  {
   "cell_type": "code",
   "execution_count": 50,
   "metadata": {},
   "outputs": [
    {
     "name": "stdout",
     "output_type": "stream",
     "text": [
      "[accuracy] tr: 0.75, va: 0.73\n"
     ]
    }
   ],
   "source": [
    "y_tr_pred = model.predict(x_tr)\n",
    "y_va_pred = model.predict(x_va)\n",
    "metric_tr = accuracy_score(y_tr, y_tr_pred)\n",
    "metric_va = accuracy_score(y_va, y_va_pred)\n",
    "print(f\"[accuracy] tr: {metric_tr:.2f}, va: {metric_va:.2f}\")"
   ]
  },
  {
   "attachments": {},
   "cell_type": "markdown",
   "metadata": {},
   "source": [
    "説明変数の重要度"
   ]
  },
  {
   "cell_type": "code",
   "execution_count": 51,
   "metadata": {},
   "outputs": [
    {
     "data": {
      "text/html": [
       "<div>\n",
       "<style scoped>\n",
       "    .dataframe tbody tr th:only-of-type {\n",
       "        vertical-align: middle;\n",
       "    }\n",
       "\n",
       "    .dataframe tbody tr th {\n",
       "        vertical-align: top;\n",
       "    }\n",
       "\n",
       "    .dataframe thead th {\n",
       "        text-align: right;\n",
       "    }\n",
       "</style>\n",
       "<table border=\"1\" class=\"dataframe\">\n",
       "  <thead>\n",
       "    <tr style=\"text-align: right;\">\n",
       "      <th></th>\n",
       "      <th>col</th>\n",
       "      <th>imp</th>\n",
       "    </tr>\n",
       "  </thead>\n",
       "  <tbody>\n",
       "    <tr>\n",
       "      <th>0</th>\n",
       "      <td>Fare</td>\n",
       "      <td>903.440373</td>\n",
       "    </tr>\n",
       "    <tr>\n",
       "      <th>1</th>\n",
       "      <td>Pclass</td>\n",
       "      <td>229.457186</td>\n",
       "    </tr>\n",
       "  </tbody>\n",
       "</table>\n",
       "</div>"
      ],
      "text/plain": [
       "      col         imp\n",
       "0    Fare  903.440373\n",
       "1  Pclass  229.457186"
      ]
     },
     "execution_count": 51,
     "metadata": {},
     "output_type": "execute_result"
    }
   ],
   "source": [
    "imp = pd.DataFrame({'col': x_train.columns, 'imp': model.feature_importances_})\n",
    "imp.sort_values('imp', ascending=False, ignore_index=True)"
   ]
  },
  {
   "attachments": {},
   "cell_type": "markdown",
   "metadata": {},
   "source": [
    "##### 4.7.2　クロスバリデーションの場合"
   ]
  },
  {
   "attachments": {},
   "cell_type": "markdown",
   "metadata": {},
   "source": [
    "データセットの作成、モデル学習、精度の評価"
   ]
  },
  {
   "cell_type": "code",
   "execution_count": 52,
   "metadata": {},
   "outputs": [
    {
     "name": "stdout",
     "output_type": "stream",
     "text": [
      "-------------------- 0 --------------------\n",
      "(712, 2) (712, 1)\n",
      "(179, 2) (179, 1)\n",
      "y_train:0.384, y_tr:0.383, y_va:0.385\n",
      "[10]\ttraining's auc: 0.788155\tvalid_1's auc: 0.736957\n",
      "[20]\ttraining's auc: 0.805606\tvalid_1's auc: 0.731686\n",
      "[30]\ttraining's auc: 0.814213\tvalid_1's auc: 0.734256\n",
      "[40]\ttraining's auc: 0.82194\tvalid_1's auc: 0.731028\n",
      "[50]\ttraining's auc: 0.826838\tvalid_1's auc: 0.730632\n",
      "[60]\ttraining's auc: 0.832653\tvalid_1's auc: 0.732082\n",
      "[70]\ttraining's auc: 0.835966\tvalid_1's auc: 0.724045\n",
      "[80]\ttraining's auc: 0.839696\tvalid_1's auc: 0.71693\n",
      "[90]\ttraining's auc: 0.843037\tvalid_1's auc: 0.716206\n",
      "[100]\ttraining's auc: 0.844961\tvalid_1's auc: 0.716469\n",
      "[110]\ttraining's auc: 0.847218\tvalid_1's auc: 0.71726\n",
      "[accuracy] tr: 0.72, va: 0.68\n",
      "-------------------- 1 --------------------\n",
      "(713, 2) (713, 1)\n",
      "(178, 2) (178, 1)\n",
      "y_train:0.384, y_tr:0.384, y_va:0.382\n",
      "[10]\ttraining's auc: 0.786679\tvalid_1's auc: 0.74873\n",
      "[20]\ttraining's auc: 0.800014\tvalid_1's auc: 0.752874\n",
      "[30]\ttraining's auc: 0.808685\tvalid_1's auc: 0.755214\n",
      "[40]\ttraining's auc: 0.814056\tvalid_1's auc: 0.755749\n",
      "[50]\ttraining's auc: 0.815282\tvalid_1's auc: 0.751337\n",
      "[60]\ttraining's auc: 0.818636\tvalid_1's auc: 0.75508\n",
      "[70]\ttraining's auc: 0.820158\tvalid_1's auc: 0.752941\n",
      "[80]\ttraining's auc: 0.82308\tvalid_1's auc: 0.753008\n",
      "[90]\ttraining's auc: 0.825204\tvalid_1's auc: 0.751939\n",
      "[100]\ttraining's auc: 0.826717\tvalid_1's auc: 0.753008\n",
      "[110]\ttraining's auc: 0.82774\tvalid_1's auc: 0.755816\n",
      "[120]\ttraining's auc: 0.828563\tvalid_1's auc: 0.755949\n",
      "[accuracy] tr: 0.75, va: 0.68\n",
      "-------------------- 2 --------------------\n",
      "(713, 2) (713, 1)\n",
      "(178, 2) (178, 1)\n",
      "y_train:0.384, y_tr:0.384, y_va:0.382\n",
      "[10]\ttraining's auc: 0.784015\tvalid_1's auc: 0.716243\n",
      "[20]\ttraining's auc: 0.8041\tvalid_1's auc: 0.725401\n",
      "[30]\ttraining's auc: 0.819451\tvalid_1's auc: 0.729412\n",
      "[40]\ttraining's auc: 0.823117\tvalid_1's auc: 0.728342\n",
      "[50]\ttraining's auc: 0.827715\tvalid_1's auc: 0.730147\n",
      "[60]\ttraining's auc: 0.830433\tvalid_1's auc: 0.728409\n",
      "[70]\ttraining's auc: 0.832778\tvalid_1's auc: 0.728743\n",
      "[80]\ttraining's auc: 0.834943\tvalid_1's auc: 0.729813\n",
      "[90]\ttraining's auc: 0.837371\tvalid_1's auc: 0.731618\n",
      "[100]\ttraining's auc: 0.839483\tvalid_1's auc: 0.732687\n",
      "[110]\ttraining's auc: 0.840027\tvalid_1's auc: 0.731484\n",
      "[120]\ttraining's auc: 0.842209\tvalid_1's auc: 0.733623\n",
      "[130]\ttraining's auc: 0.844196\tvalid_1's auc: 0.735027\n",
      "[140]\ttraining's auc: 0.844828\tvalid_1's auc: 0.733957\n",
      "[150]\ttraining's auc: 0.8462\tvalid_1's auc: 0.735495\n",
      "[160]\ttraining's auc: 0.846931\tvalid_1's auc: 0.734291\n",
      "[170]\ttraining's auc: 0.847671\tvalid_1's auc: 0.736163\n",
      "[180]\ttraining's auc: 0.848494\tvalid_1's auc: 0.736832\n",
      "[190]\ttraining's auc: 0.84896\tvalid_1's auc: 0.7375\n",
      "[200]\ttraining's auc: 0.849542\tvalid_1's auc: 0.737233\n",
      "[210]\ttraining's auc: 0.850772\tvalid_1's auc: 0.735762\n",
      "[220]\ttraining's auc: 0.85108\tvalid_1's auc: 0.736965\n",
      "[230]\ttraining's auc: 0.851836\tvalid_1's auc: 0.738168\n",
      "[240]\ttraining's auc: 0.852314\tvalid_1's auc: 0.738436\n",
      "[250]\ttraining's auc: 0.852605\tvalid_1's auc: 0.738837\n",
      "[260]\ttraining's auc: 0.852838\tvalid_1's auc: 0.739104\n",
      "[270]\ttraining's auc: 0.853404\tvalid_1's auc: 0.737767\n",
      "[280]\ttraining's auc: 0.853811\tvalid_1's auc: 0.739238\n",
      "[290]\ttraining's auc: 0.853969\tvalid_1's auc: 0.737767\n",
      "[accuracy] tr: 0.77, va: 0.69\n",
      "-------------------- 3 --------------------\n",
      "(713, 2) (713, 1)\n",
      "(178, 2) (178, 1)\n",
      "y_train:0.384, y_tr:0.384, y_va:0.382\n",
      "[10]\ttraining's auc: 0.786322\tvalid_1's auc: 0.725602\n",
      "[20]\ttraining's auc: 0.802383\tvalid_1's auc: 0.751604\n",
      "[30]\ttraining's auc: 0.811753\tvalid_1's auc: 0.754813\n",
      "[40]\ttraining's auc: 0.816379\tvalid_1's auc: 0.754211\n",
      "[50]\ttraining's auc: 0.820012\tvalid_1's auc: 0.751805\n",
      "[60]\ttraining's auc: 0.82355\tvalid_1's auc: 0.75254\n",
      "[70]\ttraining's auc: 0.826027\tvalid_1's auc: 0.748663\n",
      "[80]\ttraining's auc: 0.827968\tvalid_1's auc: 0.748396\n",
      "[90]\ttraining's auc: 0.830034\tvalid_1's auc: 0.751604\n",
      "[100]\ttraining's auc: 0.831826\tvalid_1's auc: 0.752941\n",
      "[110]\ttraining's auc: 0.832932\tvalid_1's auc: 0.754278\n",
      "[120]\ttraining's auc: 0.834282\tvalid_1's auc: 0.754412\n",
      "[accuracy] tr: 0.75, va: 0.69\n",
      "-------------------- 4 --------------------\n",
      "(713, 2) (713, 1)\n",
      "(178, 2) (178, 1)\n",
      "y_train:0.384, y_tr:0.383, y_va:0.388\n",
      "[10]\ttraining's auc: 0.775008\tvalid_1's auc: 0.745911\n",
      "[20]\ttraining's auc: 0.795725\tvalid_1's auc: 0.749036\n",
      "[30]\ttraining's auc: 0.804937\tvalid_1's auc: 0.751828\n",
      "[40]\ttraining's auc: 0.811443\tvalid_1's auc: 0.749036\n",
      "[50]\ttraining's auc: 0.817045\tvalid_1's auc: 0.747972\n",
      "[60]\ttraining's auc: 0.821208\tvalid_1's auc: 0.745778\n",
      "[70]\ttraining's auc: 0.825062\tvalid_1's auc: 0.740659\n",
      "[80]\ttraining's auc: 0.829433\tvalid_1's auc: 0.739596\n",
      "[90]\ttraining's auc: 0.832413\tvalid_1's auc: 0.738532\n",
      "[100]\ttraining's auc: 0.835177\tvalid_1's auc: 0.735607\n",
      "[accuracy] tr: 0.62, va: 0.61\n",
      "-------------------- result --------------------\n",
      "[[0.         0.72050562 0.67597765]\n",
      " [1.         0.75175316 0.67977528]\n",
      " [2.         0.7713885  0.68539326]\n",
      " [3.         0.74614306 0.69101124]\n",
      " [4.         0.6171108  0.61235955]]\n",
      "[cv] tr: 0.72+-0.05, va: 0.67+-0.03\n",
      "Done.\n"
     ]
    }
   ],
   "source": [
    "# ハイパーパラメータ\n",
    "params = {\n",
    "    'boosting_type': 'gbdt',\n",
    "    'objective': 'binary',\n",
    "    'metric': 'auc',\n",
    "    'learning_rate': '0.1',\n",
    "    'num_leaves': 16,\n",
    "    'n_estimators': 100000,\n",
    "    'random_state': 123,\n",
    "    'importance_type': 'gain',\n",
    "}\n",
    "\n",
    "metrics = []\n",
    "imp = pd.DataFrame()\n",
    "\n",
    "n_splits = 5\n",
    "cv = list(StratifiedKFold(n_splits=n_splits, shuffle=True, random_state=123).split(x_train, y_train))\n",
    "\n",
    "for nfold in np.arange(n_splits):\n",
    "    print(\"-\"*20, nfold, \"-\"*20)\n",
    "    idx_tr, idx_va = cv[nfold][0], cv[nfold][1]\n",
    "    x_tr, y_tr = x_train.loc[idx_tr, :], y_train.loc[idx_tr, :]\n",
    "    x_va, y_va = x_train.loc[idx_va, :], y_train.loc[idx_va, :]\n",
    "    print(x_tr.shape, y_tr.shape)\n",
    "    print(x_va.shape, y_va.shape)\n",
    "    print(f\"y_train:{y_train['Survived'].mean():.3f}, y_tr:{y_tr['Survived'].mean():.3f}, y_va:{y_va['Survived'].mean():.3f}\")\n",
    "\n",
    "    model = lgb.LGBMClassifier(**params)\n",
    "    model.fit(x_tr, y_tr, eval_set=[(x_tr, y_tr), (x_va, y_va)], early_stopping_rounds=100, verbose=10)\n",
    "\n",
    "    y_tr_pred = model.predict(x_tr)\n",
    "    y_va_pred = model.predict(x_va)\n",
    "    metric_tr = accuracy_score(y_tr, y_tr_pred)\n",
    "    metric_va = accuracy_score(y_va, y_va_pred)\n",
    "    print(f\"[accuracy] tr: {metric_tr:.2f}, va: {metric_va:.2f}\")\n",
    "\n",
    "    metrics.append([nfold, metric_tr, metric_va])\n",
    "    _imp = pd.DataFrame({'col': x_train.columns, 'imp': model.feature_importances_, 'nfold': nfold})\n",
    "    imp = pd.concat([imp, _imp], axis=0, ignore_index=True)\n",
    "\n",
    "print(\"-\"*20, 'result', \"-\"*20)\n",
    "metrics = np.array(metrics)\n",
    "print(metrics)\n",
    "\n",
    "print(f\"[cv] tr: {metrics[:,1].mean():.2f}+-{metrics[:,1].std():.2f}, va: {metrics[:,2].mean():.2f}+-{metrics[:,2].std():.2f}\")\n",
    "\n",
    "imp = imp.groupby('col')['imp'].agg(['mean', 'std'])\n",
    "imp.columns = ['imp', 'imp_std']\n",
    "imp = imp.reset_index(drop=False)\n",
    "\n",
    "print('Done.')"
   ]
  },
  {
   "attachments": {},
   "cell_type": "markdown",
   "metadata": {},
   "source": [
    "説明変数の重要度の算出"
   ]
  },
  {
   "cell_type": "code",
   "execution_count": 53,
   "metadata": {},
   "outputs": [
    {
     "data": {
      "text/html": [
       "<div>\n",
       "<style scoped>\n",
       "    .dataframe tbody tr th:only-of-type {\n",
       "        vertical-align: middle;\n",
       "    }\n",
       "\n",
       "    .dataframe tbody tr th {\n",
       "        vertical-align: top;\n",
       "    }\n",
       "\n",
       "    .dataframe thead th {\n",
       "        text-align: right;\n",
       "    }\n",
       "</style>\n",
       "<table border=\"1\" class=\"dataframe\">\n",
       "  <thead>\n",
       "    <tr style=\"text-align: right;\">\n",
       "      <th></th>\n",
       "      <th>col</th>\n",
       "      <th>imp</th>\n",
       "      <th>imp_std</th>\n",
       "    </tr>\n",
       "  </thead>\n",
       "  <tbody>\n",
       "    <tr>\n",
       "      <th>0</th>\n",
       "      <td>Fare</td>\n",
       "      <td>679.390270</td>\n",
       "      <td>356.992896</td>\n",
       "    </tr>\n",
       "    <tr>\n",
       "      <th>1</th>\n",
       "      <td>Pclass</td>\n",
       "      <td>291.704529</td>\n",
       "      <td>138.843896</td>\n",
       "    </tr>\n",
       "  </tbody>\n",
       "</table>\n",
       "</div>"
      ],
      "text/plain": [
       "      col         imp     imp_std\n",
       "0    Fare  679.390270  356.992896\n",
       "1  Pclass  291.704529  138.843896"
      ]
     },
     "execution_count": 53,
     "metadata": {},
     "output_type": "execute_result"
    }
   ],
   "source": [
    "imp.sort_values('imp', ascending=False, ignore_index=True)"
   ]
  },
  {
   "attachments": {},
   "cell_type": "markdown",
   "metadata": {},
   "source": [
    "##### 4.7.3　ベースラインの評価"
   ]
  },
  {
   "attachments": {},
   "cell_type": "markdown",
   "metadata": {},
   "source": [
    "ベースラインの評価の観点\n",
    "- モデルの精度\n",
    "- 誤差の分布\n",
    "- 予測値の分布"
   ]
  },
  {
   "cell_type": "code",
   "execution_count": 54,
   "metadata": {},
   "outputs": [
    {
     "name": "stdout",
     "output_type": "stream",
     "text": [
      "(712, 2) (712, 1)\n",
      "(179, 2) (179, 1)\n"
     ]
    }
   ],
   "source": [
    "x_tr, x_va2, y_tr, y_va2 = train_test_split(x_train, y_train, test_size=0.2, shuffle=True, stratify=y_train, random_state=123)\n",
    "print(x_tr.shape, y_tr.shape)\n",
    "print(x_va2.shape, y_va2.shape)"
   ]
  },
  {
   "cell_type": "code",
   "execution_count": 55,
   "metadata": {},
   "outputs": [
    {
     "name": "stdout",
     "output_type": "stream",
     "text": [
      "(569, 2) (569, 1)\n",
      "(143, 2) (143, 1)\n"
     ]
    }
   ],
   "source": [
    "x_tr1, x_va1, y_tr1, y_va1 = train_test_split(x_tr, y_tr, test_size=0.2, shuffle=True, stratify=y_tr, random_state=789)\n",
    "print(x_tr1.shape, y_tr1.shape)\n",
    "print(x_va1.shape, y_va1.shape)"
   ]
  },
  {
   "cell_type": "code",
   "execution_count": 56,
   "metadata": {},
   "outputs": [
    {
     "name": "stdout",
     "output_type": "stream",
     "text": [
      "[10]\ttraining's auc: 0.792153\tvalid_1's auc: 0.72562\n",
      "[20]\ttraining's auc: 0.810025\tvalid_1's auc: 0.712087\n",
      "[30]\ttraining's auc: 0.822545\tvalid_1's auc: 0.72376\n",
      "[40]\ttraining's auc: 0.829204\tvalid_1's auc: 0.719421\n",
      "[50]\ttraining's auc: 0.836699\tvalid_1's auc: 0.720455\n",
      "[60]\ttraining's auc: 0.841808\tvalid_1's auc: 0.716322\n",
      "[70]\ttraining's auc: 0.84684\tvalid_1's auc: 0.71281\n",
      "[80]\ttraining's auc: 0.851009\tvalid_1's auc: 0.716529\n",
      "[90]\ttraining's auc: 0.85472\tvalid_1's auc: 0.720041\n",
      "[100]\ttraining's auc: 0.856354\tvalid_1's auc: 0.722934\n"
     ]
    },
    {
     "data": {
      "text/plain": [
       "LGBMClassifier(importance_type='gain', learning_rate='0.1', metric='auc',\n",
       "               n_estimators=100000, num_leaves=16, objective='binary',\n",
       "               random_state=123)"
      ]
     },
     "execution_count": 56,
     "metadata": {},
     "output_type": "execute_result"
    }
   ],
   "source": [
    "# ハイパーパラメータ\n",
    "params = {\n",
    "    'boosting_type': 'gbdt',\n",
    "    'objective': 'binary',\n",
    "    'metric': 'auc',\n",
    "    'learning_rate': '0.1',\n",
    "    'num_leaves': 16,\n",
    "    'n_estimators': 100000,\n",
    "    'random_state': 123,\n",
    "    'importance_type': 'gain',\n",
    "}\n",
    "\n",
    "model = lgb.LGBMClassifier(**params)\n",
    "model.fit(x_tr1, y_tr1, eval_set=[(x_tr1, y_tr1), (x_va1, y_va1)], early_stopping_rounds=100, verbose=10)"
   ]
  },
  {
   "cell_type": "code",
   "execution_count": 57,
   "metadata": {},
   "outputs": [],
   "source": [
    "y_va1_pred = model.predict(x_va1)\n",
    "y_va2_pred = model.predict(x_va2)"
   ]
  },
  {
   "cell_type": "code",
   "execution_count": 58,
   "metadata": {},
   "outputs": [
    {
     "name": "stdout",
     "output_type": "stream",
     "text": [
      "[検証データ] acc: 0.7133\n",
      "[ベースライン検証データ] acc: 0.7095\n"
     ]
    }
   ],
   "source": [
    "print(f\"[検証データ] acc: {accuracy_score(y_va1, y_va1_pred):.4f}\")\n",
    "print(f\"[ベースライン検証データ] acc: {accuracy_score(y_va2, y_va2_pred):.4f}\")"
   ]
  },
  {
   "cell_type": "code",
   "execution_count": 59,
   "metadata": {},
   "outputs": [
    {
     "name": "stdout",
     "output_type": "stream",
     "text": [
      "検証データ\n",
      "[[76 12]\n",
      " [29 26]]\n",
      "[[0.53146853 0.08391608]\n",
      " [0.2027972  0.18181818]]\n",
      "ベースライン検証データ\n",
      "[[92 18]\n",
      " [34 35]]\n",
      "[[0.51396648 0.10055866]\n",
      " [0.18994413 0.19553073]]\n"
     ]
    }
   ],
   "source": [
    "print('検証データ')\n",
    "print(confusion_matrix(y_va1, y_va1_pred))\n",
    "print(confusion_matrix(y_va1, y_va1_pred, normalize='all'))\n",
    "print('ベースライン検証データ')\n",
    "print(confusion_matrix(y_va2, y_va2_pred))\n",
    "print(confusion_matrix(y_va2, y_va2_pred, normalize='all'))"
   ]
  },
  {
   "cell_type": "code",
   "execution_count": 60,
   "metadata": {},
   "outputs": [
    {
     "data": {
      "text/plain": [
       "<matplotlib.legend.Legend at 0x170dc5920d0>"
      ]
     },
     "execution_count": 60,
     "metadata": {},
     "output_type": "execute_result"
    },
    {
     "data": {
      "image/png": "[encoded data removed]",
      "text/plain": [
       "<Figure size 720x576 with 2 Axes>"
      ]
     },
     "metadata": {
      "needs_background": "light"
     },
     "output_type": "display_data"
    }
   ],
   "source": [
    "# 予測値の確率値算出\n",
    "y_va1_pred_prob = model.predict_proba(x_va1)[:,1]\n",
    "y_va2_pred_prob = model.predict_proba(x_va2)[:,1]\n",
    "\n",
    "# 確率値をヒストグラムで可視化\n",
    "fig = plt.figure(figsize=(10,8))\n",
    "# 検証データ\n",
    "fig.add_subplot(2, 1, 1)\n",
    "plt.title(\"検証データ\")\n",
    "plt.hist(y_va1_pred_prob[np.array(y_va1).reshape(-1)==1], bins=10, alpha=0.5, label=\"1\")\n",
    "plt.hist(y_va1_pred_prob[np.array(y_va1).reshape(-1)==0], bins=10, alpha=0.5, label=\"0\")\n",
    "plt.grid()\n",
    "plt.legend()\n",
    "# ベースライン検証データ\n",
    "fig.add_subplot(2, 1, 2)\n",
    "plt.title(\"ベースライン検証データ\")\n",
    "plt.hist(y_va2_pred_prob[np.array(y_va2).reshape(-1)==1], bins=10, alpha=0.5, label=\"1\")\n",
    "plt.hist(y_va2_pred_prob[np.array(y_va2).reshape(-1)==0], bins=10, alpha=0.5, label=\"0\")\n",
    "plt.grid()\n",
    "plt.legend()"
   ]
  },
  {
   "attachments": {},
   "cell_type": "markdown",
   "metadata": {},
   "source": [
    "### 4.8　モデル推論"
   ]
  },
  {
   "attachments": {},
   "cell_type": "markdown",
   "metadata": {},
   "source": [
    "##### 4.8.1　推論用データセット作成"
   ]
  },
  {
   "cell_type": "code",
   "execution_count": 61,
   "metadata": {},
   "outputs": [],
   "source": [
    "df_test = pd.read_csv('../data/test.csv')\n",
    "x_test = df_test[['Pclass', 'Fare']]\n",
    "id_test = df_test[['PassengerId']]"
   ]
  },
  {
   "attachments": {},
   "cell_type": "markdown",
   "metadata": {},
   "source": [
    "##### 4.8.2　学習済モデルを用いた推論"
   ]
  },
  {
   "cell_type": "code",
   "execution_count": 62,
   "metadata": {},
   "outputs": [],
   "source": [
    "# 学習モデルによる推論\n",
    "y_test_pred = model.predict(x_test)"
   ]
  },
  {
   "cell_type": "code",
   "execution_count": 63,
   "metadata": {},
   "outputs": [
    {
     "data": {
      "text/html": [
       "<div>\n",
       "<style scoped>\n",
       "    .dataframe tbody tr th:only-of-type {\n",
       "        vertical-align: middle;\n",
       "    }\n",
       "\n",
       "    .dataframe tbody tr th {\n",
       "        vertical-align: top;\n",
       "    }\n",
       "\n",
       "    .dataframe thead th {\n",
       "        text-align: right;\n",
       "    }\n",
       "</style>\n",
       "<table border=\"1\" class=\"dataframe\">\n",
       "  <thead>\n",
       "    <tr style=\"text-align: right;\">\n",
       "      <th></th>\n",
       "      <th>PassengerId</th>\n",
       "      <th>Survived</th>\n",
       "    </tr>\n",
       "  </thead>\n",
       "  <tbody>\n",
       "    <tr>\n",
       "      <th>0</th>\n",
       "      <td>892</td>\n",
       "      <td>0</td>\n",
       "    </tr>\n",
       "    <tr>\n",
       "      <th>1</th>\n",
       "      <td>893</td>\n",
       "      <td>0</td>\n",
       "    </tr>\n",
       "    <tr>\n",
       "      <th>2</th>\n",
       "      <td>894</td>\n",
       "      <td>0</td>\n",
       "    </tr>\n",
       "    <tr>\n",
       "      <th>3</th>\n",
       "      <td>895</td>\n",
       "      <td>0</td>\n",
       "    </tr>\n",
       "    <tr>\n",
       "      <th>4</th>\n",
       "      <td>896</td>\n",
       "      <td>0</td>\n",
       "    </tr>\n",
       "  </tbody>\n",
       "</table>\n",
       "</div>"
      ],
      "text/plain": [
       "   PassengerId  Survived\n",
       "0          892         0\n",
       "1          893         0\n",
       "2          894         0\n",
       "3          895         0\n",
       "4          896         0"
      ]
     },
     "metadata": {},
     "output_type": "display_data"
    }
   ],
   "source": [
    "# 提出用ファイルの作成\n",
    "df_submit = pd.DataFrame({'PassengerId':id_test['PassengerId'], 'Survived':y_test_pred})\n",
    "display(df_submit.head(5))\n",
    "df_submit.to_csv('../data/submission_baseline.csv', index=None)"
   ]
  },
  {
   "cell_type": "code",
   "execution_count": null,
   "metadata": {},
   "outputs": [],
   "source": []
  }
 ],
 "metadata": {
  "kernelspec": {
   "display_name": "Python 3",
   "language": "python",
   "name": "python3"
  },
  "language_info": {
   "codemirror_mode": {
    "name": "ipython",
    "version": 3
   },
   "file_extension": ".py",
   "mimetype": "text/x-python",
   "name": "python",
   "nbconvert_exporter": "python",
   "pygments_lexer": "ipython3",
   "version": "3.8.10"
  },
  "orig_nbformat": 4,
  "vscode": {
   "interpreter": {
    "hash": "ad0fc5d8869b6c56ca488a3b2d7b4e5f68591369db564ad1b04a4da769807e22"
   }
  }
 },
 "nbformat": 4,
 "nbformat_minor": 2
}
